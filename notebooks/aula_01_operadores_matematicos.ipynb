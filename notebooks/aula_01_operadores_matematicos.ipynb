<<<<<<< HEAD
{"nbformat":4,"nbformat_minor":0,"metadata":{"colab":{"name":"aula_01_operadores_matematicos.ipynb","provenance":[{"file_id":"1d0TjkZ3Uzily91MbR_AJxvtKl6yb1aQu","timestamp":1580906643425}],"collapsed_sections":[],"authorship_tag":"ABX9TyNq7Qx2MTeHtrOctorXJ+hP"},"kernelspec":{"name":"python3","display_name":"Python 3"}},"cells":[{"cell_type":"markdown","metadata":{"id":"iUkmowUDQqG7","colab_type":"text"},"source":["## **Aula 01** - Introdução: Operadores Aritméticos, Relacionais e Lógicos\n","\n","**Objetivo**: Apresentar os conceitos sobre variáveis, operadores aritméticos, relacionais e lógicos utilizados em Python.\n","\n","Documentação Python 3.8.1: https://docs.python.org/3/library/index.html\n","\n"]},{"cell_type":"markdown","metadata":{"colab_type":"text","id":"afJSK97vcTFx"},"source":["### **Variáveis**\n","Variável é um objeto localizado na memória, capaz de armazenar e representar um valor ou expressão por meio de um nome (nome da variável)\n","\n","Existem três tipos básicos de variáveis em Python:\n","\n","* Numérico\n","* Texto ou *string*\n","* Lógico ou *booleano*"]},{"cell_type":"markdown","metadata":{"id":"jf6e-9bJriN6","colab_type":"text"},"source":["**Observações Importantes**\n","* Em Python não há a necessidade especificar que tipo uma variável deve ser, pois a própria linguagem reconhece o tipo de acordo com o valor atribuído.\n","* Python é Case Sensitive, ou seja, diferencia letras maiúsculas de minúsculas.\n","* Para definirmos o nome de variáveis, temos que iniciar utilizando um caractere que esteja no intervalo de `a` à `z` ou `A` à `Z` e de `0` a `9`. A única exceção a esta regra é o caractere underscore \"`_`\".\n","* Podemos utilizar números, desde que seja o segundo caractere da sequência.\n","* Também é desejável e prudente que os nomes tenham relação com o seu significado."]},{"cell_type":"markdown","metadata":{"id":"q2yvk5i-8i71","colab_type":"text"},"source":["##### **Variáveis Numéricas**\n","\n","Podem ser de dois tipos:\n","* `int`: número inteiro\n","* `float`: ponto flutuante (número real)"]},{"cell_type":"code","metadata":{"id":"nITi9FobeHp8","colab_type":"code","colab":{}},"source":["# isto é um comentário\n","x = 10    # inteiro\n","y = 7.3   # float\n","\n","print(x)\n","print(y)"],"execution_count":0,"outputs":[]},{"cell_type":"code","metadata":{"id":"l7k8Fp-Uerht","colab_type":"code","colab":{}},"source":["# Também podemos incrementar a saída usando o caracter especial \"%\".\n","# Ele permite que seja feita uma formatação nos números.\n","print(\"O valor da variável 'y' é: %.02f\" %y) # duas casas decimais"],"execution_count":0,"outputs":[]},{"cell_type":"markdown","metadata":{"id":"i7a9LFwY-4iG","colab_type":"text"},"source":["##### **Variáveis *String* ou Texto**\n","\n","No Python qualquer texto é uma *string*, mesmo que seja um número, desde que envolvido entre aspas."]},{"cell_type":"code","metadata":{"id":"tnSM7nsM_Xnn","colab_type":"code","colab":{}},"source":["curso = \"Ciências da Computação\"\n","disciplina = \"Ciências de Dados\"\n","ano = \"2020\"\n","\n","print(curso)\n","print(ano)"],"execution_count":0,"outputs":[]},{"cell_type":"code","metadata":{"id":"8ao0UxhBe-3i","colab_type":"code","colab":{}},"source":["# Em algumas situações é necessária a concatenação de números com texto.\n","# Para isso usamos o str() \n","\n","numero = 25\n","texto = \"Hoje é dia \"\n","\n","print(texto + str(numero))"],"execution_count":0,"outputs":[]},{"cell_type":"code","metadata":{"id":"UpbZYhkhgzBE","colab_type":"code","colab":{}},"source":["# E se precisarmos colocar um número \"no meio\" do texto?\n","nome = \"Edson Melo tem\"\n","idade = 30\n","complemento = \"anos\"\n","\n","print(nome, idade, complemento)"],"execution_count":0,"outputs":[]},{"cell_type":"code","metadata":{"id":"hI1sedJdhYDx","colab_type":"code","colab":{}},"source":["# Uma cocatenação mais sofisticada\n","formato = '{0} {1} {2}'\n","print(formato.format(nome, idade, complemento))"],"execution_count":0,"outputs":[]},{"cell_type":"markdown","metadata":{"id":"5M1BA2U1iwoG","colab_type":"text"},"source":["### **Operadores Aritméticos**\n"]},{"cell_type":"markdown","metadata":{"id":"PZbiSVnFjQli","colab_type":"text"},"source":["| Operação      | Operador |\n","|---------------|:--------:|\n","| Adição        |     +    |\n","| Subtração     |     -    |\n","| Multiplicação |     *    |\n","| Divisão       |     /    |\n","| Exponenciação |    **    |\n","| Parte Inteira |    //    |\n","| Módulo        |     %    |"]},{"cell_type":"code","metadata":{"id":"Qe83OEH2kPw6","colab_type":"code","colab":{}},"source":["# variáveis\n","a = 10\n","b = 2"],"execution_count":0,"outputs":[]},{"cell_type":"code","metadata":{"id":"YrmzCtYzkXHT","colab_type":"code","colab":{}},"source":["print('Soma:', a + b)\n","print('Subtração:', a - b)\n","print('Multiplicação:', a * b)\n","print('Exponenciação:', a ** b)\n","print('Parte inteira de um número:', a // b)\n","print('Módulo ou resto da divisão:', a % b)"],"execution_count":0,"outputs":[]},{"cell_type":"code","metadata":{"id":"z7WbTO-_yiSS","colab_type":"code","colab":{}},"source":["# Arredondamento direto ou com casas decimais\n","print('round (0):', round(7.4555))\n","print('round (1):', round(7.4555, 1))\n","print('round (2):', round(7.4555, 2))\n","print('round (3):', round(7.4555, 3))"],"execution_count":0,"outputs":[]},{"cell_type":"markdown","metadata":{"id":"u3RB4237lxG7","colab_type":"text"},"source":["### **Operadores Relacionais**"]},{"cell_type":"markdown","metadata":{"id":"sm2Lyg2cnHuJ","colab_type":"text"},"source":["| Descrição        | Operador |\n","|------------------|:--------:|\n","| Maior que        |     >    |\n","| Menor que        |     <    |\n","| Igual a          |    ==    |\n","| Maior ou igual a |    >=    |\n","| Menor ou igual a |    <=    |\n","| Diferente        |    !=    |"]},{"cell_type":"code","metadata":{"id":"dQHh5ABJnPd1","colab_type":"code","colab":{}},"source":["# Exemplos com variáveis\n","a = 10\n","b = 35\n","\n","print('Igual a: ', a == b)\n","print('Maior que: ', a > b)\n","print('Menor que: ', a < b)\n","print('Maior ou igual a: ', a >= b)\n","print('Menor ou igual a: ', a <= b)\n","print('Diferente de: ', a != b)"],"execution_count":0,"outputs":[]},{"cell_type":"markdown","metadata":{"id":"LbJOX4iOoNz2","colab_type":"text"},"source":["### **Operadores Lógicos**\n","\n","Esses operadores permitem unir 2 expressões ligando-as com os conectivos lógicos matemáticos e são:\n","\n","| Operador Lógico \t| Função    \t| Prioridade \t|\n","|-----------------\t|-----------\t|:----------:\t|\n","| NOT             \t| Negação   \t|      1     \t|\n","| AND             \t| Conjunção \t|      2     \t|\n","| OR              \t| Disjunção \t|      3     \t|"]},{"cell_type":"code","metadata":{"id":"60aPP-J5olUn","colab_type":"code","colab":{}},"source":["a = 1\n","b = 5\n","c = 2\n","d = 6\n","\n","print( (a > 1) and (c < 3) )\n","print( (b < d) or (a > 1) )\n","print(  not (( c > d) and (d == b)) )"],"execution_count":0,"outputs":[]},{"cell_type":"markdown","metadata":{"id":"xKggQ3bCqInX","colab_type":"text"},"source":["#### **Operadores Lógicos**\n","\n","|   A   |   B   | A and B | A or B |\n","|:-----:|:-----:|:-------:|:------:|\n","|  True |  True |   True  |  True  |\n","|  True | False |  False  |  True  |\n","| False |  True |  False  |  True  |\n","| False | False |  False  |  False |"]},{"cell_type":"markdown","metadata":{"id":"PSiZ8aSR62YW","colab_type":"text"},"source":["### **Leitura do Teclado (Entrada de Dados)**\n","\n","A função utilizada para efetuar a leitura de dados a partir do teclado é a input()."]},{"cell_type":"code","metadata":{"id":"b2LZWRKf2uyY","colab_type":"code","colab":{}},"source":["entrada  = input('Digite um nome:')\n","print('Olá', entrada)"],"execution_count":0,"outputs":[]},{"cell_type":"code","metadata":{"id":"my-COilM3Qoj","colab_type":"code","colab":{}},"source":["entrada = input('Digite um valor:')\n","print('A soma entre 2 e', entrada , 'é:', 2 * int(entrada))"],"execution_count":0,"outputs":[]},{"cell_type":"markdown","metadata":{"id":"SiRG4b28kn10","colab_type":"text"},"source":["### **Conversões**\n","* Absoluto abs(x)\n","* Conveter para Inteiro: int(x)\n","* Converter para Real: float(x)\n","* Converter para String: str(valor)"]},{"cell_type":"markdown","metadata":{"id":"4JFG_7pYV8zM","colab_type":"text"},"source":["<hr>"]},{"cell_type":"markdown","metadata":{"id":"4TJutIL0qUTk","colab_type":"text"},"source":["<h1>Exercícios de Fixação</h1>"]},{"cell_type":"markdown","metadata":{"id":"hoIyWH-wqvkG","colab_type":"text"},"source":["\n","\n","1.   Implemente um programa que escreve na tela a frase \"Meu primeiro programa em Python!!!\".\n","2.   Você foi contratado por uma escola pra fazer o sistema de boletim dos alunos. Como primeiro passo, escreva um programa que produza a seguinte saída (Não é necessário manter o alinhamento):\n","\n","| Aluno(a)        \t|  Nota \t|\n","|-----------------\t|------:\t|\n","| Ana Maria       \t|  9.00 \t|\n","| José Carlos     \t|  7.20 \t|\n","| Júlio Martins   \t|  8.00 \t|\n","| Ubiratan Santos \t| 10.00 \t|\n","\n","3. Utilizando <strong>variáveis</strong>, faça um programa para realizar o seguinte cálculo:\n","10 + 20 - 30 + (45 * 3) / 8 ** 2\n","4. Faça um programa que **leia duas variáveis pelo teclado** e apresente a soma entre eles\n","5. Calcule o **delta** da equação a seguir, realizando a entrada dos valores de (a, b e c) pelo teclado.\\\n","  5.1 Exemplo: $x^2 + 12x - 13 = 0$ (a=1, b=12 e c=-13).\n"]},{"cell_type":"code","metadata":{"id":"UDWiOZSYsrsO","colab_type":"code","colab":{}},"source":["# Respostas\n","\n","# 1.\n","print(\"Meu primeiro programa em Python!!!\")\n","\n","# 2.\n","print(\"Aluno\", \"Nota\")\n","print(\"Ana Maria %.2f\" %9.0)\n","print(\"José Carlos %.2f\" %7.2)\n","print(\"Júlio Martins %.2f\" %8.0)\n","print(\"Ubiratan Santos %.2f\" %10.0)"],"execution_count":0,"outputs":[]},{"cell_type":"code","metadata":{"id":"4_OQ0R7Qs4Zd","colab_type":"code","colab":{}},"source":["print(f\"Ana Maria \\t{9.0:>5,.02f}\")\n","print(f\"José Carlos \\t{7.2:>5,.02f}\")\n","print(f\"Júlio Martins \\t{8:>5,.02f}\")\n","print(f\"Ubiratan Santos {10.0:>5,.02f}\")"],"execution_count":0,"outputs":[]},{"cell_type":"code","metadata":{"id":"1VYJRGbauRM2","colab_type":"code","colab":{}},"source":["# 3.\n","v1 = 10\n","v2 = 20\n","v3 = 30\n","v4 = 45\n","v5 = 3\n","v6 = 8\n","v7 = 2\n","# 10 + 20 - 30 + (45 * 3) / 8 ** 2\n","\n","print( v1 + v2 - v3 + (v4 * v5) / v6 ** v7 )\n"],"execution_count":0,"outputs":[]},{"cell_type":"code","metadata":{"id":"4PUO24waYfzw","colab_type":"code","colab":{}},"source":["# 4.\n","#4.1\n","n_1 = input('Digite o primeiro valor:')\n","n_2 = input('Digite o segundo valor:')\n","print('O resultado da soma entre', n_1, 'e', n_2, 'é:', (int(n_1) + int(n_2)))"],"execution_count":0,"outputs":[]},{"cell_type":"code","metadata":{"id":"HAwOn5stZZPX","colab_type":"code","colab":{}},"source":["# 5.\n","\n","a = 1\n","b = 12\n","c = -13\n","delta = (b ** 2) - 4 *a * c\n","print('O resultado é:', delta)"],"execution_count":0,"outputs":[]}]}
=======
{
  "nbformat": 4,
  "nbformat_minor": 0,
  "metadata": {
    "colab": {
      "name": "aula_01_operadores_matematicos.ipynb",
      "provenance": [],
      "collapsed_sections": [],
      "authorship_tag": "ABX9TyMbXGlL1QM+EB8/z+KyLjdc",
      "include_colab_link": true
    },
    "kernelspec": {
      "name": "python3",
      "display_name": "Python 3"
    }
  },
  "cells": [
    {
      "cell_type": "markdown",
      "metadata": {
        "id": "view-in-github",
        "colab_type": "text"
      },
      "source": [
        "<a href=\"https://colab.research.google.com/github/EdsonMSouza/aulas-ciencias-de-dados/blob/master/notebooks/aula_01_operadores_matematicos.ipynb\" target=\"_parent\"><img src=\"https://colab.research.google.com/assets/colab-badge.svg\" alt=\"Open In Colab\"/></a>"
      ]
    },
    {
      "cell_type": "markdown",
      "metadata": {
        "id": "iUkmowUDQqG7",
        "colab_type": "text"
      },
      "source": [
        "## **Aula 01** - Introdução: Operadores Aritméticos, Relacionais e Lógicos\n",
        "\n",
        "**Objetivo**: Apresentar os conceitos sobre variáveis, operadores aritméticos, relacionais e lógicos utilizados em Python.\n",
        "\n",
        "Documentação Python 3.8.1: https://docs.python.org/3/library/index.html\n",
        "\n"
      ]
    },
    {
      "cell_type": "markdown",
      "metadata": {
        "colab_type": "text",
        "id": "afJSK97vcTFx"
      },
      "source": [
        "### **Variáveis**\n",
        "Variável é um objeto localizado na memória, capaz de armazenar e representar um valor ou expressão por meio de um nome (nome da variável)\n",
        "\n",
        "Existem três tipos básicos de variáveis em Python:\n",
        "\n",
        "* Numérico\n",
        "* Texto ou *string*\n",
        "* Lógico ou *booleano*"
      ]
    },
    {
      "cell_type": "markdown",
      "metadata": {
        "id": "jf6e-9bJriN6",
        "colab_type": "text"
      },
      "source": [
        "**Observações Importantes**\n",
        "* Em Python não há a necessidade especificar que tipo uma variável deve ser, pois a própria linguagem reconhece o tipo de acordo com o valor atribuído.\n",
        "* Python é Case Sensitive, ou seja, diferencia letras maiúsculas de minúsculas.\n",
        "* Para definirmos o nome de variáveis, temos que iniciar utilizando um caractere que esteja no intervalo de `a` à `z` ou `A` à `Z` e de `0` a `9`. A única exceção a esta regra é o caractere underscore \"`_`\".\n",
        "* Podemos utilizar números, desde que seja o segundo caractere da sequência.\n",
        "* Também é desejável e prudente que os nomes tenham relação com o seu significado."
      ]
    },
    {
      "cell_type": "markdown",
      "metadata": {
        "id": "q2yvk5i-8i71",
        "colab_type": "text"
      },
      "source": [
        "##### **Variáveis Numéricas**\n",
        "\n",
        "Podem ser de dois tipos:\n",
        "* `int`: número inteiro\n",
        "* `float`: ponto flutuante (número real)"
      ]
    },
    {
      "cell_type": "code",
      "metadata": {
        "id": "nITi9FobeHp8",
        "colab_type": "code",
        "colab": {}
      },
      "source": [
        "# isto é um comentário\n",
        "x = 10    # inteiro\n",
        "y = 7.3   # float\n",
        "\n",
        "print(x)\n",
        "print(y)"
      ],
      "execution_count": 0,
      "outputs": []
    },
    {
      "cell_type": "code",
      "metadata": {
        "id": "l7k8Fp-Uerht",
        "colab_type": "code",
        "colab": {}
      },
      "source": [
        "# Também podemos incrementar a saída usando o caracter especial \"%\".\n",
        "# Ele permite que seja feita uma formatação nos números.\n",
        "print(\"O valor da variável 'y' é: %.02f\" %y) # duas casas decimais"
      ],
      "execution_count": 0,
      "outputs": []
    },
    {
      "cell_type": "markdown",
      "metadata": {
        "id": "i7a9LFwY-4iG",
        "colab_type": "text"
      },
      "source": [
        "##### **Variáveis *String* ou Texto**\n",
        "\n",
        "No Python qualquer texto é uma *string*, mesmo que seja um número, desde que envolvido entre aspas."
      ]
    },
    {
      "cell_type": "code",
      "metadata": {
        "id": "tnSM7nsM_Xnn",
        "colab_type": "code",
        "colab": {}
      },
      "source": [
        "curso = \"Ciências da Computação\"\n",
        "disciplina = \"Ciências de Dados\"\n",
        "ano = \"2020\"\n",
        "\n",
        "print(curso)\n",
        "print(ano)"
      ],
      "execution_count": 0,
      "outputs": []
    },
    {
      "cell_type": "code",
      "metadata": {
        "id": "8ao0UxhBe-3i",
        "colab_type": "code",
        "colab": {}
      },
      "source": [
        "# Em algumas situações é necessária a concatenação de números com texto.\n",
        "# Para isso usamos o str() \n",
        "\n",
        "numero = 25\n",
        "texto = \"Hoje é dia \"\n",
        "\n",
        "print(texto + str(numero))"
      ],
      "execution_count": 0,
      "outputs": []
    },
    {
      "cell_type": "code",
      "metadata": {
        "id": "UpbZYhkhgzBE",
        "colab_type": "code",
        "colab": {}
      },
      "source": [
        "# E se precisarmos colocar um número \"no meio\" do texto?\n",
        "nome = \"Edson Melo tem\"\n",
        "idade = 30\n",
        "complemento = \"anos\"\n",
        "\n",
        "print(nome, idade, complemento)"
      ],
      "execution_count": 0,
      "outputs": []
    },
    {
      "cell_type": "code",
      "metadata": {
        "id": "hI1sedJdhYDx",
        "colab_type": "code",
        "colab": {}
      },
      "source": [
        "# Uma cocatenação mais sofisticada\n",
        "formato = '{0} {1} {2}'\n",
        "print(formato.format(nome, idade, complemento))"
      ],
      "execution_count": 0,
      "outputs": []
    },
    {
      "cell_type": "markdown",
      "metadata": {
        "id": "5M1BA2U1iwoG",
        "colab_type": "text"
      },
      "source": [
        "### **Operadores Aritméticos**\n"
      ]
    },
    {
      "cell_type": "markdown",
      "metadata": {
        "id": "PZbiSVnFjQli",
        "colab_type": "text"
      },
      "source": [
        "| Operação      | Operador |\n",
        "|---------------|:--------:|\n",
        "| Adição        |     +    |\n",
        "| Subtração     |     -    |\n",
        "| Multiplicação |     *    |\n",
        "| Divisão       |     /    |\n",
        "| Exponenciação |    **    |\n",
        "| Parte Inteira |    //    |\n",
        "| Módulo        |     %    |"
      ]
    },
    {
      "cell_type": "code",
      "metadata": {
        "id": "Qe83OEH2kPw6",
        "colab_type": "code",
        "colab": {}
      },
      "source": [
        "# variáveis\n",
        "a = 10\n",
        "b = 2"
      ],
      "execution_count": 0,
      "outputs": []
    },
    {
      "cell_type": "code",
      "metadata": {
        "id": "YrmzCtYzkXHT",
        "colab_type": "code",
        "colab": {}
      },
      "source": [
        "print('Soma:', a + b)\n",
        "print('Subtração:', a - b)\n",
        "print('Multiplicação:', a * b)\n",
        "print('Exponenciação:', a ** b)\n",
        "print('Parte inteira de um número:', a // b)\n",
        "print('Módulo ou resto da divisão:', a % b)"
      ],
      "execution_count": 0,
      "outputs": []
    },
    {
      "cell_type": "code",
      "metadata": {
        "id": "z7WbTO-_yiSS",
        "colab_type": "code",
        "colab": {}
      },
      "source": [
        "# Arredondamento direto ou com casas decimais\n",
        "print('round (0):', round(7.4555))\n",
        "print('round (1):', round(7.4555, 1))\n",
        "print('round (2):', round(7.4555, 2))\n",
        "print('round (3):', round(7.4555, 3))"
      ],
      "execution_count": 0,
      "outputs": []
    },
    {
      "cell_type": "markdown",
      "metadata": {
        "id": "u3RB4237lxG7",
        "colab_type": "text"
      },
      "source": [
        "### **Operadores Relacionais**"
      ]
    },
    {
      "cell_type": "markdown",
      "metadata": {
        "id": "sm2Lyg2cnHuJ",
        "colab_type": "text"
      },
      "source": [
        "| Descrição        | Operador |\n",
        "|------------------|:--------:|\n",
        "| Maior que        |     >    |\n",
        "| Menor que        |     <    |\n",
        "| Igual a          |    ==    |\n",
        "| Maior ou igual a |    >=    |\n",
        "| Menor ou igual a |    <=    |\n",
        "| Diferente        |    !=    |"
      ]
    },
    {
      "cell_type": "code",
      "metadata": {
        "id": "dQHh5ABJnPd1",
        "colab_type": "code",
        "colab": {}
      },
      "source": [
        "# Exemplos com variáveis\n",
        "a = 10\n",
        "b = 35\n",
        "\n",
        "print('Igual a: ', a == b)\n",
        "print('Maior que: ', a > b)\n",
        "print('Menor que: ', a < b)\n",
        "print('Maior ou igual a: ', a >= b)\n",
        "print('Menor ou igual a: ', a <= b)\n",
        "print('Diferente de: ', a != b)"
      ],
      "execution_count": 0,
      "outputs": []
    },
    {
      "cell_type": "markdown",
      "metadata": {
        "id": "LbJOX4iOoNz2",
        "colab_type": "text"
      },
      "source": [
        "### **Operadores Lógicos**\n",
        "\n",
        "Esses operadores permitem unir 2 expressões ligando-as com os conectivos lógicos matemáticos e são:\n",
        "\n",
        "| Operador Lógico \t| Função    \t| Prioridade \t|\n",
        "|-----------------\t|-----------\t|:----------:\t|\n",
        "| NOT             \t| Negação   \t|      1     \t|\n",
        "| AND             \t| Conjunção \t|      2     \t|\n",
        "| OR              \t| Disjunção \t|      3     \t|"
      ]
    },
    {
      "cell_type": "code",
      "metadata": {
        "id": "60aPP-J5olUn",
        "colab_type": "code",
        "colab": {}
      },
      "source": [
        "a = 1\n",
        "b = 5\n",
        "c = 2\n",
        "d = 6\n",
        "\n",
        "print( (a > 1) and (c < 3) )\n",
        "print( (b < d) or (a > 1) )\n",
        "print(  not (( c > d) and (d == b)) )"
      ],
      "execution_count": 0,
      "outputs": []
    },
    {
      "cell_type": "markdown",
      "metadata": {
        "id": "xKggQ3bCqInX",
        "colab_type": "text"
      },
      "source": [
        "#### **Operadores Lógicos**\n",
        "\n",
        "|   A   |   B   | A and B | A or B |\n",
        "|:-----:|:-----:|:-------:|:------:|\n",
        "|  True |  True |   True  |  True  |\n",
        "|  True | False |  False  |  True  |\n",
        "| False |  True |  False  |  True  |\n",
        "| False | False |  False  |  False |"
      ]
    },
    {
      "cell_type": "markdown",
      "metadata": {
        "id": "PSiZ8aSR62YW",
        "colab_type": "text"
      },
      "source": [
        "### **Leitura do Teclado (Entrada de Dados)**\n",
        "\n",
        "A função utilizada para efetuar a leitura de dados a partir do teclado é a input()."
      ]
    },
    {
      "cell_type": "code",
      "metadata": {
        "id": "b2LZWRKf2uyY",
        "colab_type": "code",
        "colab": {}
      },
      "source": [
        "entrada  = input('Digite um nome:')\n",
        "print('Olá', entrada)"
      ],
      "execution_count": 0,
      "outputs": []
    },
    {
      "cell_type": "code",
      "metadata": {
        "id": "my-COilM3Qoj",
        "colab_type": "code",
        "colab": {}
      },
      "source": [
        "entrada = input('Digite um valor:')\n",
        "print('A soma entre 2 e', entrada , 'é:', 2 + int(entrada))"
      ],
      "execution_count": 0,
      "outputs": []
    },
    {
      "cell_type": "markdown",
      "metadata": {
        "id": "SiRG4b28kn10",
        "colab_type": "text"
      },
      "source": [
        "### **Conversões**\n",
        "* Absoluto abs(x)\n",
        "* Conveter para Inteiro: int(x)\n",
        "* Converter para Real: float(x)\n",
        "* Converter para String: str(valor)"
      ]
    },
    {
      "cell_type": "markdown",
      "metadata": {
        "id": "4JFG_7pYV8zM",
        "colab_type": "text"
      },
      "source": [
        "<hr>"
      ]
    },
    {
      "cell_type": "markdown",
      "metadata": {
        "id": "4TJutIL0qUTk",
        "colab_type": "text"
      },
      "source": [
        "<h1>Exercícios de Fixação</h1>"
      ]
    },
    {
      "cell_type": "markdown",
      "metadata": {
        "id": "hoIyWH-wqvkG",
        "colab_type": "text"
      },
      "source": [
        "\n",
        "\n",
        "1.   Implemente um programa que escreve na tela a frase \"Meu primeiro programa em Python!!!\".\n",
        "2.   Você foi contratado por uma escola pra fazer o sistema de boletim dos alunos. Como primeiro passo, escreva um programa que produza a seguinte saída (Não é necessário manter o alinhamento):\n",
        "\n",
        "| Aluno(a)        \t|  Nota \t|\n",
        "|-----------------\t|------:\t|\n",
        "| Ana Maria       \t|  9.00 \t|\n",
        "| José Carlos     \t|  7.20 \t|\n",
        "| Júlio Martins   \t|  8.00 \t|\n",
        "| Ubiratan Santos \t| 10.00 \t|\n",
        "\n",
        "3. Utilizando <strong>variáveis</strong>, faça um programa para realizar o seguinte cálculo:\n",
        "10 + 20 - 30 + (45 * 3) / 8 ** 2\n",
        "4. Faça um programa que **leia duas variáveis pelo teclado** e apresente a soma entre eles\n",
        "5. Calcule o **delta** da equação a seguir, realizando a entrada dos valores de (a, b e c) pelo teclado.\\\n",
        "  5.1 Exemplo: $x^2 + 12x - 13 = 0$ (a=1, b=12 e c=-13).\n"
      ]
    },
    {
      "cell_type": "code",
      "metadata": {
        "id": "UDWiOZSYsrsO",
        "colab_type": "code",
        "colab": {}
      },
      "source": [
        "# Respostas\n",
        "\n",
        "# 1.\n",
        "print(\"Meu primeiro programa em Python!!!\")\n",
        "\n",
        "# 2.\n",
        "print(\"Aluno\", \"Nota\")\n",
        "print(\"Ana Maria %.2f\" %9.0)\n",
        "print(\"José Carlos %.2f\" %7.2)\n",
        "print(\"Júlio Martins %.2f\" %8.0)\n",
        "print(\"Ubiratan Santos %.2f\" %10.0)"
      ],
      "execution_count": 0,
      "outputs": []
    },
    {
      "cell_type": "code",
      "metadata": {
        "id": "4_OQ0R7Qs4Zd",
        "colab_type": "code",
        "colab": {}
      },
      "source": [
        "print(f\"Ana Maria \\t{9.0:>5,.02f}\")\n",
        "print(f\"José Carlos \\t{7.2:>5,.02f}\")\n",
        "print(f\"Júlio Martins \\t{8:>5,.02f}\")\n",
        "print(f\"Ubiratan Santos {10.0:>5,.02f}\")"
      ],
      "execution_count": 0,
      "outputs": []
    },
    {
      "cell_type": "code",
      "metadata": {
        "id": "1VYJRGbauRM2",
        "colab_type": "code",
        "colab": {}
      },
      "source": [
        "# 3.\n",
        "v1 = 10\n",
        "v2 = 20\n",
        "v3 = 30\n",
        "v4 = 45\n",
        "v5 = 3\n",
        "v6 = 8\n",
        "v7 = 2\n",
        "# 10 + 20 - 30 + (45 * 3) / 8 ** 2\n",
        "\n",
        "print( v1 + v2 - v3 + (v4 * v5) / v6 ** v7 )\n"
      ],
      "execution_count": 0,
      "outputs": []
    },
    {
      "cell_type": "code",
      "metadata": {
        "id": "4PUO24waYfzw",
        "colab_type": "code",
        "colab": {}
      },
      "source": [
        "# 4.\n",
        "#4.1\n",
        "n_1 = input('Digite o primeiro valor:')\n",
        "n_2 = input('Digite o segundo valor:')\n",
        "print('O resultado da soma entre', n_1, 'e', n_2, 'é:', (int(n_1) + int(n_2)))"
      ],
      "execution_count": 0,
      "outputs": []
    },
    {
      "cell_type": "code",
      "metadata": {
        "id": "HAwOn5stZZPX",
        "colab_type": "code",
        "colab": {}
      },
      "source": [
        "# 5.\n",
        "\n",
        "a = 1\n",
        "b = 12\n",
        "c = -13\n",
        "delta = (b ** 2) - 4 *a * c\n",
        "print('O resultado é:', delta)"
      ],
      "execution_count": 0,
      "outputs": []
    }
  ]
}
>>>>>>> efeaa70d4b89d657eb678be4984292ee4ad8553b
